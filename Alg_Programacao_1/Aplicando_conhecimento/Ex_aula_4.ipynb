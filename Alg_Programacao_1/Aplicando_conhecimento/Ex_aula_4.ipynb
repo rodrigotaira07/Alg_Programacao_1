{
 "cells": [
  {
   "cell_type": "code",
   "execution_count": 36,
   "metadata": {},
   "outputs": [
    {
     "name": "stdout",
     "output_type": "stream",
     "text": [
      "SÊNIOR\n"
     ]
    }
   ],
   "source": [
    "idade = int(input(\"Digite a idade:\"));\n",
    "if idade<5:\n",
    "    print(\"NÃO TEM IDADE PARA SER ATLETA\")\n",
    "elif idade<8:\n",
    "    print(\"INFANTIL A\")\n",
    "elif idade<11:\n",
    "    print(\"INFANTIL B\")\n",
    "elif idade<14:\n",
    "    print(\"JUVENIL A\")\n",
    "elif idade<18:\n",
    "    print(\"JUVENIL B\")    \n",
    "else:\n",
    "    print(\"SÊNIOR\")"
   ]
  }
 ],
 "metadata": {
  "kernelspec": {
   "display_name": "base",
   "language": "python",
   "name": "python3"
  },
  "language_info": {
   "codemirror_mode": {
    "name": "ipython",
    "version": 3
   },
   "file_extension": ".py",
   "mimetype": "text/x-python",
   "name": "python",
   "nbconvert_exporter": "python",
   "pygments_lexer": "ipython3",
   "version": "3.10.9"
  },
  "orig_nbformat": 4
 },
 "nbformat": 4,
 "nbformat_minor": 2
}
